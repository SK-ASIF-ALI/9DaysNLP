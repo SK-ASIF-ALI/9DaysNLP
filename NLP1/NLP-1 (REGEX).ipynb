{
 "cells": [
  {
   "cell_type": "code",
   "execution_count": 82,
   "id": "936608ae",
   "metadata": {},
   "outputs": [],
   "source": [
    "import re"
   ]
  },
  {
   "cell_type": "code",
   "execution_count": 83,
   "id": "fec046fa",
   "metadata": {},
   "outputs": [],
   "source": [
    "chat1 = 'codebasics: you ask lot of questions 😠  1235678912, abc@xyz.com'\n",
    "chat2 = 'codebasics: here it is: (123)-567-8912, abc@xyz.com'\n",
    "chat3 = 'codebasics: yes, phone: 1235678912 email: abc@xyz.com'"
   ]
  },
  {
   "cell_type": "markdown",
   "id": "954ea61b",
   "metadata": {},
   "source": [
    "### Above are the Examples of chats of chatbot.We nee to extract the mobile no an emails"
   ]
  },
  {
   "cell_type": "markdown",
   "id": "d9b3304a",
   "metadata": {},
   "source": [
    "inorder to get the patterns of email id's and the corresponding formats.We need to implement it using the regular Expressions."
   ]
  },
  {
   "cell_type": "code",
   "execution_count": 84,
   "id": "9247f1d4",
   "metadata": {},
   "outputs": [
    {
     "data": {
      "text/plain": [
       "['1235678912']"
      ]
     },
     "execution_count": 84,
     "metadata": {},
     "output_type": "execute_result"
    }
   ],
   "source": [
    "pattern=r'\\d{10}'\n",
    "matches=re.findall(pattern,chat1)\n",
    "matches"
   ]
  },
  {
   "cell_type": "markdown",
   "id": "00ac4402",
   "metadata": {},
   "source": [
    "### Hurray !!! we got the 10 digit mobile  Number. Let's try to get the phone using chat2"
   ]
  },
  {
   "cell_type": "code",
   "execution_count": 85,
   "id": "968b9aff",
   "metadata": {},
   "outputs": [
    {
     "data": {
      "text/plain": [
       "[]"
      ]
     },
     "execution_count": 85,
     "metadata": {},
     "output_type": "execute_result"
    }
   ],
   "source": [
    "matches=re.findall(pattern,chat2)\n",
    "matches"
   ]
  },
  {
   "cell_type": "markdown",
   "id": "1b105a6c",
   "metadata": {},
   "source": [
    "### We are not able to get it....We need think about other logic or pattern.The no in chat2 is different."
   ]
  },
  {
   "cell_type": "code",
   "execution_count": 86,
   "id": "915d47fb",
   "metadata": {},
   "outputs": [],
   "source": [
    "chat2 = 'codebasics: here it is: (123)-567-8912, abc@xyz.com'\n"
   ]
  },
  {
   "cell_type": "code",
   "execution_count": 87,
   "id": "2ee26ce0",
   "metadata": {},
   "outputs": [
    {
     "data": {
      "text/plain": [
       "['(123)-567-8912']"
      ]
     },
     "execution_count": 87,
     "metadata": {},
     "output_type": "execute_result"
    }
   ],
   "source": [
    "pattern=r\"\\(\\d{3}\\)-\\d{3}-\\d{4}\"\n",
    "matches=re.findall(pattern,chat2)\n",
    "matches"
   ]
  },
  {
   "cell_type": "markdown",
   "id": "50edb6f2",
   "metadata": {},
   "source": [
    "### Now we know how to get the different kinds of mobile no formats...Inorder to put them all up in a single line...We need to use a pipe like or condition statement."
   ]
  },
  {
   "cell_type": "code",
   "execution_count": 88,
   "id": "3e46daf2",
   "metadata": {},
   "outputs": [
    {
     "name": "stdout",
     "output_type": "stream",
     "text": [
      "codebasics: you ask lot of questions 😠  1235678912, abc@xyz.com \t\t Number is  (123)-567-8912\n",
      "codebasics: here it is: (123)-567-8912, abc@xyz.com \t\t Number is  (123)-567-8912\n",
      "codebasics: yes, phone: 1235678912 email: abc@xyz.com \t\t Number is  (123)-567-8912\n"
     ]
    }
   ],
   "source": [
    "chats=[chat1,chat2,chat3]\n",
    "pattern=r\"\\d{10}|\\(\\d{3}\\)-\\d{3}-\\d{4}\"\n",
    "for i in chats:\n",
    "    matches=re.findall(pattern,chat2)\n",
    "    print(i,'\\t\\t Number is ',matches[0])"
   ]
  },
  {
   "cell_type": "markdown",
   "id": "5e99ab1b",
   "metadata": {},
   "source": [
    "### Now we need to extract the email address"
   ]
  },
  {
   "cell_type": "code",
   "execution_count": 89,
   "id": "49461b58",
   "metadata": {},
   "outputs": [],
   "source": [
    "chat1 = 'codebasics: you ask lot of questions 😠  1235678912, 12_abc@xyz.com'\n",
    "chat2 = 'codebasics: here it is: (123)-567-8912, abc@xyz.com'\n",
    "chat3 = 'codebasics: yes, phone: 1235678912 email: abc_82@xyz.com'"
   ]
  },
  {
   "cell_type": "code",
   "execution_count": 90,
   "id": "0f8681d2",
   "metadata": {},
   "outputs": [
    {
     "name": "stdout",
     "output_type": "stream",
     "text": [
      "['abc@xyz.com']\n",
      "['abc@xyz.com']\n",
      "['abc@xyz.com']\n"
     ]
    }
   ],
   "source": [
    "pattern=r\"[a-zA-Z0-9_]*@[a-z]*\\.[a-z]*\"\n",
    "for i in chats:\n",
    "    matches=re.findall(pattern,i)\n",
    "    print(matches)"
   ]
  },
  {
   "cell_type": "markdown",
   "id": "df360ae8",
   "metadata": {},
   "source": [
    "### Now we'll move to the next thread of extracting of order id and amount"
   ]
  },
  {
   "cell_type": "code",
   "execution_count": 91,
   "id": "383ec122",
   "metadata": {},
   "outputs": [],
   "source": [
    "chat1='codebasics: Hello, I am having an issue with my order # 412889912'\n",
    "chat2='codebasics: I have a problem with my order number 412889912'\n",
    "chat3='codebasics: My order 412887912 is having an issue, I was charged 300$ when online it says 280$'"
   ]
  },
  {
   "cell_type": "code",
   "execution_count": 92,
   "id": "a27e86e8",
   "metadata": {},
   "outputs": [
    {
     "name": "stdout",
     "output_type": "stream",
     "text": [
      "['412889912']\n",
      "['412889912']\n",
      "['412887912']\n"
     ]
    }
   ],
   "source": [
    "chats=[chat1,chat2,chat3]\n",
    "\n",
    "pattern=r\"order[^\\d]*(\\d*)\" #order is necessary start string is numeric and numeric contains \n",
    "for i in chats:\n",
    "    matches=re.findall(pattern,i)\n",
    "    print(matches)"
   ]
  },
  {
   "cell_type": "markdown",
   "id": "baf93664",
   "metadata": {},
   "source": [
    "## Now We'll use a paragraph to fetch the details of elon musk"
   ]
  },
  {
   "cell_type": "code",
   "execution_count": 93,
   "id": "1f4fc5f1",
   "metadata": {},
   "outputs": [],
   "source": [
    "text='''\n",
    "Born\tElon Reeve Musk\n",
    "June 28, 1971 (age 50)\n",
    "Pretoria, Transvaal, South Africa\n",
    "Citizenship\t\n",
    "South Africa (1971–present)\n",
    "Canada (1971–present)\n",
    "United States (2002–present)\n",
    "Education\tUniversity of Pennsylvania (BS, BA)\n",
    "Title\t\n",
    "Founder, CEO and Chief Engineer of SpaceX\n",
    "CEO and product architect of Tesla, Inc.\n",
    "Founder of The Boring Company and X.com (now part of PayPal)\n",
    "Co-founder of Neuralink, OpenAI, and Zip2\n",
    "Spouse(s)\t\n",
    "Justine Wilson\n",
    "​\n",
    "​(m. 2000; div. 2008)​\n",
    "Talulah Riley\n",
    "​\n",
    "​(m. 2010; div. 2012)​\n",
    "​\n",
    "​(m. 2013; div. 2016)\n",
    "'''"
   ]
  },
  {
   "cell_type": "markdown",
   "id": "583ef3e0",
   "metadata": {},
   "source": [
    "### Getting the Age"
   ]
  },
  {
   "cell_type": "code",
   "execution_count": 95,
   "id": "4224b9d7",
   "metadata": {},
   "outputs": [
    {
     "data": {
      "text/plain": [
       "['50']"
      ]
     },
     "execution_count": 95,
     "metadata": {},
     "output_type": "execute_result"
    }
   ],
   "source": [
    "pattern=r\"age (\\d+)\"\n",
    "matches=re.findall(pattern,text)\n",
    "matches"
   ]
  },
  {
   "cell_type": "markdown",
   "id": "de9a3a5a",
   "metadata": {},
   "source": [
    "### Name of the Bio graphy holder"
   ]
  },
  {
   "cell_type": "code",
   "execution_count": 98,
   "id": "076dd56b",
   "metadata": {},
   "outputs": [
    {
     "data": {
      "text/plain": [
       "'Elon Reeve Musk'"
      ]
     },
     "execution_count": 98,
     "metadata": {},
     "output_type": "execute_result"
    }
   ],
   "source": [
    "pattern=r\"Born(.*)\"\n",
    "matches=re.findall(pattern,text)\n",
    "matches[0].strip()"
   ]
  },
  {
   "cell_type": "markdown",
   "id": "f68f4a8e",
   "metadata": {},
   "source": [
    "### Date of Birth of the author"
   ]
  },
  {
   "cell_type": "code",
   "execution_count": 105,
   "id": "04c914fb",
   "metadata": {},
   "outputs": [
    {
     "data": {
      "text/plain": [
       "'June 28, 1971'"
      ]
     },
     "execution_count": 105,
     "metadata": {},
     "output_type": "execute_result"
    }
   ],
   "source": [
    "pattern=r\"Born.*\\n(.*)\\(\"\n",
    "matches=re.findall(pattern,text)\n",
    "matches[0].strip()"
   ]
  },
  {
   "cell_type": "markdown",
   "id": "92ef7031",
   "metadata": {},
   "source": [
    "## Birth Location"
   ]
  },
  {
   "cell_type": "code",
   "execution_count": 107,
   "id": "8938151e",
   "metadata": {},
   "outputs": [
    {
     "data": {
      "text/plain": [
       "'Pretoria, Transvaal, South Africa'"
      ]
     },
     "execution_count": 107,
     "metadata": {},
     "output_type": "execute_result"
    }
   ],
   "source": [
    "pattern=r\"\\(age.*\\n(.*)\"\n",
    "matches=re.findall(pattern,text)\n",
    "matches[0].strip()"
   ]
  },
  {
   "cell_type": "markdown",
   "id": "4784a86b",
   "metadata": {},
   "source": [
    "### Education Details"
   ]
  },
  {
   "cell_type": "code",
   "execution_count": 110,
   "id": "3b07dbb2",
   "metadata": {},
   "outputs": [
    {
     "data": {
      "text/plain": [
       "'University of Pennsylvania (BS, BA)'"
      ]
     },
     "execution_count": 110,
     "metadata": {},
     "output_type": "execute_result"
    }
   ],
   "source": [
    "pattern=r\"Education(.*)\"\n",
    "matches=re.findall(pattern,text)\n",
    "matches[0].strip()"
   ]
  },
  {
   "cell_type": "code",
   "execution_count": null,
   "id": "aba6060d",
   "metadata": {},
   "outputs": [],
   "source": []
  }
 ],
 "metadata": {
  "kernelspec": {
   "display_name": "Python 3.7.9 64-bit ('deep': conda)",
   "language": "python",
   "name": "python37964bitdeepcondaca26738ea5b24ea6bf13713b47cc1ee6"
  },
  "language_info": {
   "codemirror_mode": {
    "name": "ipython",
    "version": 3
   },
   "file_extension": ".py",
   "mimetype": "text/x-python",
   "name": "python",
   "nbconvert_exporter": "python",
   "pygments_lexer": "ipython3",
   "version": "3.8.12"
  }
 },
 "nbformat": 4,
 "nbformat_minor": 5
}
